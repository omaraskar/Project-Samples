{
 "cells": [
  {
   "cell_type": "markdown",
   "metadata": {},
   "source": [
    "## Google Stocks Predictions\n",
    "\n",
    "- Implementation using SKLearn\n",
    "- Different regression algorithm were tried and model with best accuracy was used\n",
    "- Gradient Descent and Regularization are considered for optimization\n",
    "- Data Source is Quandl\n",
    "\n"
   ]
  },
  {
   "cell_type": "code",
   "execution_count": 1,
   "metadata": {
    "collapsed": false
   },
   "outputs": [
    {
     "name": "stderr",
     "output_type": "stream",
     "text": [
      "/Users/askar/anaconda/lib/python3.5/site-packages/sklearn/cross_validation.py:41: DeprecationWarning: This module was deprecated in version 0.18 in favor of the model_selection module into which all the refactored classes and functions are moved. Also note that the interface of the new CV iterators are different from that of this module. This module will be removed in 0.20.\n",
      "  \"This module will be removed in 0.20.\", DeprecationWarning)\n"
     ]
    },
    {
     "name": "stdout",
     "output_type": "stream",
     "text": [
      "              Open    High     Low    Close      Volume  Ex-Dividend  \\\n",
      "Date                                                                   \n",
      "2004-08-19  100.01  104.06   95.96  100.335  44659000.0          0.0   \n",
      "2004-08-20  101.01  109.08  100.50  108.310  22834300.0          0.0   \n",
      "2004-08-23  110.76  113.48  109.05  109.400  18256100.0          0.0   \n",
      "2004-08-24  111.24  111.60  103.57  104.870  15247300.0          0.0   \n",
      "2004-08-25  104.76  108.00  103.88  106.000   9188600.0          0.0   \n",
      "\n",
      "            Split Ratio  Adj. Open  Adj. High   Adj. Low  Adj. Close  \\\n",
      "Date                                                                   \n",
      "2004-08-19          1.0  50.159839  52.191109  48.128568   50.322842   \n",
      "2004-08-20          1.0  50.661387  54.708881  50.405597   54.322689   \n",
      "2004-08-23          1.0  55.551482  56.915693  54.693835   54.869377   \n",
      "2004-08-24          1.0  55.792225  55.972783  51.945350   52.597363   \n",
      "2004-08-25          1.0  52.542193  54.167209  52.100830   53.164113   \n",
      "\n",
      "            Adj. Volume  \n",
      "Date                     \n",
      "2004-08-19   44659000.0  \n",
      "2004-08-20   22834300.0  \n",
      "2004-08-23   18256100.0  \n",
      "2004-08-24   15247300.0  \n",
      "2004-08-25    9188600.0  \n"
     ]
    }
   ],
   "source": [
    "import pandas as pd\n",
    "import quandl\n",
    "import math\n",
    "import numpy as np\n",
    "from sklearn import preprocessing, cross_validation, svm\n",
    "from sklearn.linear_model import LinearRegression\n",
    "\n",
    "df = quandl.get(\"WIKI/GOOGL\")\n",
    "\n",
    "print(df.head())\n"
   ]
  },
  {
   "cell_type": "code",
   "execution_count": 2,
   "metadata": {
    "collapsed": true
   },
   "outputs": [],
   "source": [
    "df = df[['Adj. Open',  'Adj. High',  'Adj. Low',  'Adj. Close', 'Adj. Volume']]"
   ]
  },
  {
   "cell_type": "code",
   "execution_count": 3,
   "metadata": {
    "collapsed": false
   },
   "outputs": [
    {
     "name": "stdout",
     "output_type": "stream",
     "text": [
      "            Adj. Close    HL_PCT  PCT_change  Adj. Volume\n",
      "Date                                                     \n",
      "2004-08-19   50.322842  8.441017    0.324968   44659000.0\n",
      "2004-08-20   54.322689  8.537313    7.227007   22834300.0\n",
      "2004-08-23   54.869377  4.062357   -1.227880   18256100.0\n",
      "2004-08-24   52.597363  7.753210   -5.726357   15247300.0\n",
      "2004-08-25   53.164113  3.966115    1.183658    9188600.0\n"
     ]
    }
   ],
   "source": [
    "df['HL_PCT'] = (df['Adj. High'] - df['Adj. Low']) / df['Adj. Low'] * 100.0\n",
    "df['PCT_change'] = (df['Adj. Close'] - df['Adj. Open']) / df['Adj. Open'] * 100.0\n",
    "df = df[['Adj. Close', 'HL_PCT', 'PCT_change', 'Adj. Volume']]\n",
    "print(df.head())"
   ]
  },
  {
   "cell_type": "markdown",
   "metadata": {},
   "source": [
    "Features: Current price, high minus low percents, and the percent change volatility\n",
    "\n",
    "Target: Future Price (1% of the entire length of the dataset timeframe)"
   ]
  },
  {
   "cell_type": "code",
   "execution_count": 4,
   "metadata": {
    "collapsed": true
   },
   "outputs": [],
   "source": [
    "forecast_col = 'Adj. Close'\n",
    "# Fill NaN\n",
    "df.fillna(value=-99999, inplace=True)\n",
    "forecast_out = int(math.ceil(0.01 * len(df)))"
   ]
  },
  {
   "cell_type": "code",
   "execution_count": 5,
   "metadata": {
    "collapsed": false
   },
   "outputs": [
    {
     "data": {
      "text/html": [
       "<div>\n",
       "<style scoped>\n",
       "    .dataframe tbody tr th:only-of-type {\n",
       "        vertical-align: middle;\n",
       "    }\n",
       "\n",
       "    .dataframe tbody tr th {\n",
       "        vertical-align: top;\n",
       "    }\n",
       "\n",
       "    .dataframe thead th {\n",
       "        text-align: right;\n",
       "    }\n",
       "</style>\n",
       "<table border=\"1\" class=\"dataframe\">\n",
       "  <thead>\n",
       "    <tr style=\"text-align: right;\">\n",
       "      <th></th>\n",
       "      <th>Adj. Close</th>\n",
       "      <th>HL_PCT</th>\n",
       "      <th>PCT_change</th>\n",
       "      <th>Adj. Volume</th>\n",
       "      <th>label</th>\n",
       "    </tr>\n",
       "    <tr>\n",
       "      <th>Date</th>\n",
       "      <th></th>\n",
       "      <th></th>\n",
       "      <th></th>\n",
       "      <th></th>\n",
       "      <th></th>\n",
       "    </tr>\n",
       "  </thead>\n",
       "  <tbody>\n",
       "    <tr>\n",
       "      <th>2004-08-19</th>\n",
       "      <td>50.322842</td>\n",
       "      <td>8.441017</td>\n",
       "      <td>0.324968</td>\n",
       "      <td>44659000.0</td>\n",
       "      <td>69.078238</td>\n",
       "    </tr>\n",
       "    <tr>\n",
       "      <th>2004-08-20</th>\n",
       "      <td>54.322689</td>\n",
       "      <td>8.537313</td>\n",
       "      <td>7.227007</td>\n",
       "      <td>22834300.0</td>\n",
       "      <td>67.839414</td>\n",
       "    </tr>\n",
       "    <tr>\n",
       "      <th>2004-08-23</th>\n",
       "      <td>54.869377</td>\n",
       "      <td>4.062357</td>\n",
       "      <td>-1.227880</td>\n",
       "      <td>18256100.0</td>\n",
       "      <td>68.912727</td>\n",
       "    </tr>\n",
       "  </tbody>\n",
       "</table>\n",
       "</div>"
      ],
      "text/plain": [
       "            Adj. Close    HL_PCT  PCT_change  Adj. Volume      label\n",
       "Date                                                                \n",
       "2004-08-19   50.322842  8.441017    0.324968   44659000.0  69.078238\n",
       "2004-08-20   54.322689  8.537313    7.227007   22834300.0  67.839414\n",
       "2004-08-23   54.869377  4.062357   -1.227880   18256100.0  68.912727"
      ]
     },
     "execution_count": 5,
     "metadata": {},
     "output_type": "execute_result"
    }
   ],
   "source": [
    "# Create label column\n",
    "df['label'] = df[forecast_col].shift(-forecast_out)\n",
    "df.dropna(inplace=True)\n",
    "df.head(3)"
   ]
  },
  {
   "cell_type": "code",
   "execution_count": 6,
   "metadata": {
    "collapsed": true
   },
   "outputs": [],
   "source": [
    "# Assign X and y as Features and Target\n",
    "\n",
    "y = np.array(df['label'])\n",
    "X = np.array(df.drop(['label'], 1))"
   ]
  },
  {
   "cell_type": "code",
   "execution_count": 7,
   "metadata": {
    "collapsed": false
   },
   "outputs": [
    {
     "name": "stdout",
     "output_type": "stream",
     "text": [
      "[[-1.4257918   4.3276751   0.23145609  4.43803759]\n",
      " [-1.40937812  4.39394811  4.83370627  1.80240657]\n",
      " [-1.40713475  1.31419634 -0.80397597  1.24952631]\n",
      " ..., \n",
      " [ 2.86423872 -0.86398112 -0.06606634 -0.79944768]\n",
      " [ 2.92386368 -0.74577984  0.42809848 -0.7748003 ]\n",
      " [ 2.93994969 -0.91366017  0.2074257  -0.81639505]]\n"
     ]
    }
   ],
   "source": [
    "# Features Preprocessing \n",
    "X = preprocessing.scale(X)\n",
    "print(X)"
   ]
  },
  {
   "cell_type": "code",
   "execution_count": 8,
   "metadata": {
    "collapsed": false
   },
   "outputs": [
    {
     "data": {
      "text/plain": [
       "LinearRegression(copy_X=True, fit_intercept=True, n_jobs=-1, normalize=False)"
      ]
     },
     "execution_count": 8,
     "metadata": {},
     "output_type": "execute_result"
    }
   ],
   "source": [
    "## Model 1: Use Simple Linear Regression as the classifier\n",
    "# Assign train and test data\n",
    "X_train, X_test, y_train, y_test = cross_validation.train_test_split(X, y, test_size=0.2)\n",
    "\n",
    "# Classifier\n",
    "clf = LinearRegression(n_jobs=-1)\n",
    "\n",
    "# Train data/Fit\n",
    "clf.fit(X_train, y_train)"
   ]
  },
  {
   "cell_type": "code",
   "execution_count": 9,
   "metadata": {
    "collapsed": false
   },
   "outputs": [
    {
     "data": {
      "text/plain": [
       "0.9771072701244703"
      ]
     },
     "execution_count": 9,
     "metadata": {},
     "output_type": "execute_result"
    }
   ],
   "source": [
    "# Model Performance\n",
    "accuracy = clf.score(X_test, y_test)\n",
    "accuracy"
   ]
  },
  {
   "cell_type": "code",
   "execution_count": 10,
   "metadata": {
    "collapsed": false
   },
   "outputs": [
    {
     "data": {
      "text/plain": [
       "0.81546540861266403"
      ]
     },
     "execution_count": 10,
     "metadata": {},
     "output_type": "execute_result"
    }
   ],
   "source": [
    "## Model 2: Use SVM as the classifier\n",
    "# Assign train and test data\n",
    "X_train, X_test, y_train, y_test = cross_validation.train_test_split(X, y, test_size=0.2)\n",
    "\n",
    "# Classifier\n",
    "clf = svm.SVR()\n",
    "\n",
    "# Train data/Fit\n",
    "clf.fit(X_train, y_train)\n",
    "\n",
    "# Model Performance\n",
    "accuracy = clf.score(X_test, y_test)\n",
    "accuracy"
   ]
  },
  {
   "cell_type": "markdown",
   "metadata": {},
   "source": [
    "Simple Linear Regression is doing a lot better than SVM. What if we use poly as the kernel parameter in SVM Regressor?\n"
   ]
  },
  {
   "cell_type": "code",
   "execution_count": 11,
   "metadata": {
    "collapsed": false
   },
   "outputs": [
    {
     "data": {
      "text/plain": [
       "0.67112452044034931"
      ]
     },
     "execution_count": 11,
     "metadata": {},
     "output_type": "execute_result"
    }
   ],
   "source": [
    "clf = svm.SVR(kernel = 'poly')\n",
    "\n",
    "# Train data/Fit\n",
    "clf.fit(X_train, y_train)\n",
    "\n",
    "# Model Performance\n",
    "accuracy = clf.score(X_test, y_test)\n",
    "accuracy"
   ]
  },
  {
   "cell_type": "markdown",
   "metadata": {},
   "source": [
    "Polynomial gives an even worse accuracy.\n",
    "Let's check a couple more of this parameter"
   ]
  },
  {
   "cell_type": "code",
   "execution_count": 12,
   "metadata": {
    "collapsed": false
   },
   "outputs": [
    {
     "name": "stdout",
     "output_type": "stream",
     "text": [
      "Simple Linear Regression 0.978727276321\n",
      "linear 0.9776277329\n",
      "poly 0.67112452044\n",
      "rbf 0.815465408613\n",
      "sigmoid 0.902611988651\n"
     ]
    }
   ],
   "source": [
    "clf = LinearRegression(n_jobs=-1)\n",
    "clf.fit(X_train, y_train)\n",
    "accuracy = clf.score(X_test, y_test)\n",
    "print('Simple Linear Regression',accuracy)\n",
    "\n",
    "for k in ['linear','poly','rbf','sigmoid']:\n",
    "    clf = svm.SVR(kernel=k)\n",
    "    clf.fit(X_train, y_train)\n",
    "    accuracy = clf.score(X_test, y_test)\n",
    "    print(k,accuracy)\n"
   ]
  },
  {
   "cell_type": "markdown",
   "metadata": {},
   "source": [
    "Simple Linear Regression, and Linear Kernel (i.e. no Kernel) are doing much better than other parameters. Let's move forward with Simple Linear Regression"
   ]
  },
  {
   "cell_type": "code",
   "execution_count": 14,
   "metadata": {
    "collapsed": false
   },
   "outputs": [],
   "source": [
    "clf = LinearRegression(n_jobs=-1)\n",
    "clf.fit(X_train, y_train)\n",
    "accuracy = clf.score(X_test, y_test)"
   ]
  },
  {
   "cell_type": "markdown",
   "metadata": {},
   "source": [
    "## Implement Gradient Descent with Ridge Regularization"
   ]
  },
  {
   "cell_type": "code",
   "execution_count": 15,
   "metadata": {
    "collapsed": false
   },
   "outputs": [
    {
     "name": "stderr",
     "output_type": "stream",
     "text": [
      "/Users/askar/anaconda/lib/python3.5/site-packages/sklearn/linear_model/stochastic_gradient.py:128: FutureWarning: max_iter and tol parameters have been added in <class 'sklearn.linear_model.stochastic_gradient.SGDRegressor'> in 0.19. If both are left unset, they default to max_iter=5 and tol=None. If tol is not None, max_iter defaults to max_iter=1000. From 0.21, default max_iter will be 1000, and default tol will be 1e-3.\n",
      "  \"and default tol will be 1e-3.\" % type(self), FutureWarning)\n"
     ]
    },
    {
     "data": {
      "text/plain": [
       "SGDRegressor(alpha=0.0001, average=False, epsilon=0.1, eta0=0.01,\n",
       "       fit_intercept=True, l1_ratio=0.15, learning_rate='invscaling',\n",
       "       loss='squared_loss', max_iter=None, n_iter=None, penalty='l2',\n",
       "       power_t=0.25, random_state=None, shuffle=True, tol=None, verbose=0,\n",
       "       warm_start=False)"
      ]
     },
     "execution_count": 15,
     "metadata": {},
     "output_type": "execute_result"
    }
   ],
   "source": [
    "from sklearn import linear_model\n",
    "# Alpha below is lambda for regularization term (for Ridge Regularization)\n",
    "clf = linear_model.SGDRegressor(alpha=0.0001, eta0=0.01,     # Initial Learning Rate\n",
    "       learning_rate='invscaling',                           # Learning Rate Schedule: eta = eta0 / pow(t, power_t)\n",
    "       loss='squared_loss', penalty='l2', power_t=0.25, \n",
    "       shuffle=True, verbose=0)\n",
    "\n",
    "clf.fit(X_train, y_train)"
   ]
  },
  {
   "cell_type": "code",
   "execution_count": 18,
   "metadata": {
    "collapsed": false
   },
   "outputs": [
    {
     "data": {
      "text/plain": [
       "0.97877328268400987"
      ]
     },
     "execution_count": 18,
     "metadata": {},
     "output_type": "execute_result"
    }
   ],
   "source": [
    "accuracy = clf.score(X_test, y_test)\n",
    "accuracy"
   ]
  },
  {
   "cell_type": "code",
   "execution_count": 19,
   "metadata": {
    "collapsed": false
   },
   "outputs": [
    {
     "data": {
      "text/plain": [
       "array([  2.46232133e+02,  -1.39041994e+00,   1.83541251e-01,\n",
       "        -1.30423832e+00])"
      ]
     },
     "execution_count": 19,
     "metadata": {},
     "output_type": "execute_result"
    }
   ],
   "source": [
    "# Get Model Coefficients\n",
    "clf.coef_"
   ]
  },
  {
   "cell_type": "markdown",
   "metadata": {},
   "source": [
    "Predicit for the last 1% of the data (since 1% is what we used to create the column label)"
   ]
  },
  {
   "cell_type": "code",
   "execution_count": 15,
   "metadata": {
    "collapsed": false
   },
   "outputs": [
    {
     "data": {
      "text/plain": [
       "0.97446316107595099"
      ]
     },
     "execution_count": 15,
     "metadata": {},
     "output_type": "execute_result"
    }
   ],
   "source": [
    "# Define Teh Features for Prediction Data\n",
    "X_lately = X[-forecast_out:]\n",
    "X = X[:-forecast_out]\n",
    "\n",
    "df.dropna(inplace=True)\n",
    "\n",
    "y = np.array(df['label'])\n",
    "y = y[:-forecast_out]\n",
    "\n",
    "# Simple Linear Regression\n",
    "X_train, X_test, y_train, y_test = cross_validation.train_test_split(X, y, test_size=0.2)\n",
    "clf = LinearRegression(n_jobs=-1)\n",
    "clf.fit(X_train, y_train)\n",
    "accuracy = clf.score(X_test, y_test)\n",
    "accuracy"
   ]
  },
  {
   "cell_type": "code",
   "execution_count": 16,
   "metadata": {
    "collapsed": true
   },
   "outputs": [],
   "source": [
    "# Predict for X_Lately\n",
    "forecast_set = clf.predict(X_lately)"
   ]
  },
  {
   "cell_type": "code",
   "execution_count": 17,
   "metadata": {
    "collapsed": false
   },
   "outputs": [],
   "source": [
    "# Analyze and Visualize Predicted Data\n",
    "import datetime\n",
    "import matplotlib.pyplot as plt\n",
    "from matplotlib import style\n",
    "style.use('ggplot')\n",
    "\n",
    "df['Forecast'] = np.nan\n",
    "\n",
    "# Use a foor loop to populate the last 10% of the 'Forcast' column\n",
    "last_date = df.iloc[-1].name\n",
    "last_unix = last_date.timestamp()\n",
    "one_day = 86400\n",
    "next_unix = last_unix + one_day\n",
    "for i in forecast_set:\n",
    "    next_date = datetime.datetime.fromtimestamp(next_unix)\n",
    "    next_unix += 86400\n",
    "    df.loc[next_date] = [np.nan for _ in range(len(df.columns)-1)]+[i]\n"
   ]
  },
  {
   "cell_type": "code",
   "execution_count": 18,
   "metadata": {
    "collapsed": false,
    "slideshow": {
     "slide_type": "-"
    }
   },
   "outputs": [
    {
     "data": {
      "text/html": [
       "<div>\n",
       "<style scoped>\n",
       "    .dataframe tbody tr th:only-of-type {\n",
       "        vertical-align: middle;\n",
       "    }\n",
       "\n",
       "    .dataframe tbody tr th {\n",
       "        vertical-align: top;\n",
       "    }\n",
       "\n",
       "    .dataframe thead th {\n",
       "        text-align: right;\n",
       "    }\n",
       "</style>\n",
       "<table border=\"1\" class=\"dataframe\">\n",
       "  <thead>\n",
       "    <tr style=\"text-align: right;\">\n",
       "      <th></th>\n",
       "      <th>Adj. Close</th>\n",
       "      <th>HL_PCT</th>\n",
       "      <th>PCT_change</th>\n",
       "      <th>Adj. Volume</th>\n",
       "      <th>label</th>\n",
       "      <th>Forecast</th>\n",
       "    </tr>\n",
       "    <tr>\n",
       "      <th>Date</th>\n",
       "      <th></th>\n",
       "      <th></th>\n",
       "      <th></th>\n",
       "      <th></th>\n",
       "      <th></th>\n",
       "      <th></th>\n",
       "    </tr>\n",
       "  </thead>\n",
       "  <tbody>\n",
       "    <tr>\n",
       "      <th>2004-08-19 00:00:00</th>\n",
       "      <td>50.322842</td>\n",
       "      <td>8.441017</td>\n",
       "      <td>0.324968</td>\n",
       "      <td>44659000.0</td>\n",
       "      <td>69.639972</td>\n",
       "      <td>NaN</td>\n",
       "    </tr>\n",
       "    <tr>\n",
       "      <th>2004-08-20 00:00:00</th>\n",
       "      <td>54.322689</td>\n",
       "      <td>8.537313</td>\n",
       "      <td>7.227007</td>\n",
       "      <td>22834300.0</td>\n",
       "      <td>69.078238</td>\n",
       "      <td>NaN</td>\n",
       "    </tr>\n",
       "    <tr>\n",
       "      <th>2004-08-23 00:00:00</th>\n",
       "      <td>54.869377</td>\n",
       "      <td>4.062357</td>\n",
       "      <td>-1.227880</td>\n",
       "      <td>18256100.0</td>\n",
       "      <td>67.839414</td>\n",
       "      <td>NaN</td>\n",
       "    </tr>\n",
       "    <tr>\n",
       "      <th>2004-08-24 00:00:00</th>\n",
       "      <td>52.597363</td>\n",
       "      <td>7.753210</td>\n",
       "      <td>-5.726357</td>\n",
       "      <td>15247300.0</td>\n",
       "      <td>68.912727</td>\n",
       "      <td>NaN</td>\n",
       "    </tr>\n",
       "    <tr>\n",
       "      <th>2004-08-25 00:00:00</th>\n",
       "      <td>53.164113</td>\n",
       "      <td>3.966115</td>\n",
       "      <td>1.183658</td>\n",
       "      <td>9188600.0</td>\n",
       "      <td>70.668146</td>\n",
       "      <td>NaN</td>\n",
       "    </tr>\n",
       "    <tr>\n",
       "      <th>2004-08-26 00:00:00</th>\n",
       "      <td>54.122070</td>\n",
       "      <td>3.143512</td>\n",
       "      <td>2.820391</td>\n",
       "      <td>7094800.0</td>\n",
       "      <td>71.219849</td>\n",
       "      <td>NaN</td>\n",
       "    </tr>\n",
       "    <tr>\n",
       "      <th>2004-08-27 00:00:00</th>\n",
       "      <td>53.239345</td>\n",
       "      <td>2.772258</td>\n",
       "      <td>-1.803885</td>\n",
       "      <td>6211700.0</td>\n",
       "      <td>72.278116</td>\n",
       "      <td>NaN</td>\n",
       "    </tr>\n",
       "    <tr>\n",
       "      <th>2004-08-30 00:00:00</th>\n",
       "      <td>51.162935</td>\n",
       "      <td>3.411430</td>\n",
       "      <td>-3.106003</td>\n",
       "      <td>5196700.0</td>\n",
       "      <td>74.810934</td>\n",
       "      <td>NaN</td>\n",
       "    </tr>\n",
       "    <tr>\n",
       "      <th>2004-08-31 00:00:00</th>\n",
       "      <td>51.343492</td>\n",
       "      <td>1.517228</td>\n",
       "      <td>0.048866</td>\n",
       "      <td>4917800.0</td>\n",
       "      <td>74.199045</td>\n",
       "      <td>NaN</td>\n",
       "    </tr>\n",
       "    <tr>\n",
       "      <th>2004-09-01 00:00:00</th>\n",
       "      <td>50.280210</td>\n",
       "      <td>3.310926</td>\n",
       "      <td>-2.385589</td>\n",
       "      <td>9138200.0</td>\n",
       "      <td>70.462511</td>\n",
       "      <td>NaN</td>\n",
       "    </tr>\n",
       "    <tr>\n",
       "      <th>2004-09-02 00:00:00</th>\n",
       "      <td>50.912161</td>\n",
       "      <td>3.466748</td>\n",
       "      <td>2.442224</td>\n",
       "      <td>15118600.0</td>\n",
       "      <td>74.921275</td>\n",
       "      <td>NaN</td>\n",
       "    </tr>\n",
       "    <tr>\n",
       "      <th>2004-09-03 00:00:00</th>\n",
       "      <td>50.159839</td>\n",
       "      <td>2.436569</td>\n",
       "      <td>-0.931154</td>\n",
       "      <td>5152400.0</td>\n",
       "      <td>86.481962</td>\n",
       "      <td>NaN</td>\n",
       "    </tr>\n",
       "    <tr>\n",
       "      <th>2004-09-07 00:00:00</th>\n",
       "      <td>50.947269</td>\n",
       "      <td>2.399357</td>\n",
       "      <td>0.564301</td>\n",
       "      <td>5847500.0</td>\n",
       "      <td>93.990139</td>\n",
       "      <td>NaN</td>\n",
       "    </tr>\n",
       "    <tr>\n",
       "      <th>2004-09-08 00:00:00</th>\n",
       "      <td>51.308384</td>\n",
       "      <td>2.517413</td>\n",
       "      <td>1.548541</td>\n",
       "      <td>4985600.0</td>\n",
       "      <td>91.181468</td>\n",
       "      <td>NaN</td>\n",
       "    </tr>\n",
       "    <tr>\n",
       "      <th>2004-09-09 00:00:00</th>\n",
       "      <td>51.313400</td>\n",
       "      <td>1.693069</td>\n",
       "      <td>-0.185366</td>\n",
       "      <td>4061700.0</td>\n",
       "      <td>93.272925</td>\n",
       "      <td>NaN</td>\n",
       "    </tr>\n",
       "    <tr>\n",
       "      <th>2004-09-10 00:00:00</th>\n",
       "      <td>52.828075</td>\n",
       "      <td>5.192498</td>\n",
       "      <td>3.804080</td>\n",
       "      <td>8698800.0</td>\n",
       "      <td>96.949273</td>\n",
       "      <td>NaN</td>\n",
       "    </tr>\n",
       "    <tr>\n",
       "      <th>2004-09-13 00:00:00</th>\n",
       "      <td>53.916435</td>\n",
       "      <td>1.831674</td>\n",
       "      <td>0.815905</td>\n",
       "      <td>7844100.0</td>\n",
       "      <td>95.615155</td>\n",
       "      <td>NaN</td>\n",
       "    </tr>\n",
       "    <tr>\n",
       "      <th>2004-09-14 00:00:00</th>\n",
       "      <td>55.917612</td>\n",
       "      <td>4.878734</td>\n",
       "      <td>3.769546</td>\n",
       "      <td>10828900.0</td>\n",
       "      <td>98.318500</td>\n",
       "      <td>NaN</td>\n",
       "    </tr>\n",
       "    <tr>\n",
       "      <th>2004-09-15 00:00:00</th>\n",
       "      <td>56.173402</td>\n",
       "      <td>3.656987</td>\n",
       "      <td>1.302460</td>\n",
       "      <td>10713000.0</td>\n",
       "      <td>97.736704</td>\n",
       "      <td>NaN</td>\n",
       "    </tr>\n",
       "    <tr>\n",
       "      <th>2004-09-16 00:00:00</th>\n",
       "      <td>57.161452</td>\n",
       "      <td>3.716973</td>\n",
       "      <td>1.450952</td>\n",
       "      <td>9266300.0</td>\n",
       "      <td>96.131750</td>\n",
       "      <td>NaN</td>\n",
       "    </tr>\n",
       "    <tr>\n",
       "      <th>2004-09-17 00:00:00</th>\n",
       "      <td>58.926902</td>\n",
       "      <td>3.469837</td>\n",
       "      <td>2.683097</td>\n",
       "      <td>9472500.0</td>\n",
       "      <td>92.635958</td>\n",
       "      <td>NaN</td>\n",
       "    </tr>\n",
       "    <tr>\n",
       "      <th>2004-09-20 00:00:00</th>\n",
       "      <td>59.864797</td>\n",
       "      <td>4.136336</td>\n",
       "      <td>2.060710</td>\n",
       "      <td>10628700.0</td>\n",
       "      <td>84.937193</td>\n",
       "      <td>NaN</td>\n",
       "    </tr>\n",
       "    <tr>\n",
       "      <th>2004-09-21 00:00:00</th>\n",
       "      <td>59.102444</td>\n",
       "      <td>2.476385</td>\n",
       "      <td>-1.963394</td>\n",
       "      <td>7228700.0</td>\n",
       "      <td>86.542147</td>\n",
       "      <td>NaN</td>\n",
       "    </tr>\n",
       "    <tr>\n",
       "      <th>2004-09-22 00:00:00</th>\n",
       "      <td>59.373280</td>\n",
       "      <td>2.448421</td>\n",
       "      <td>0.791826</td>\n",
       "      <td>7581200.0</td>\n",
       "      <td>84.611187</td>\n",
       "      <td>NaN</td>\n",
       "    </tr>\n",
       "    <tr>\n",
       "      <th>2004-09-23 00:00:00</th>\n",
       "      <td>60.597057</td>\n",
       "      <td>4.794052</td>\n",
       "      <td>1.666106</td>\n",
       "      <td>8535600.0</td>\n",
       "      <td>84.189886</td>\n",
       "      <td>NaN</td>\n",
       "    </tr>\n",
       "    <tr>\n",
       "      <th>2004-09-24 00:00:00</th>\n",
       "      <td>60.100525</td>\n",
       "      <td>3.623914</td>\n",
       "      <td>-0.942382</td>\n",
       "      <td>9123400.0</td>\n",
       "      <td>91.793357</td>\n",
       "      <td>NaN</td>\n",
       "    </tr>\n",
       "    <tr>\n",
       "      <th>2004-09-27 00:00:00</th>\n",
       "      <td>59.313094</td>\n",
       "      <td>2.614601</td>\n",
       "      <td>-1.087320</td>\n",
       "      <td>7066100.0</td>\n",
       "      <td>91.281778</td>\n",
       "      <td>NaN</td>\n",
       "    </tr>\n",
       "    <tr>\n",
       "      <th>2004-09-28 00:00:00</th>\n",
       "      <td>63.626409</td>\n",
       "      <td>5.981200</td>\n",
       "      <td>4.713165</td>\n",
       "      <td>16929000.0</td>\n",
       "      <td>92.721222</td>\n",
       "      <td>NaN</td>\n",
       "    </tr>\n",
       "    <tr>\n",
       "      <th>2004-09-29 00:00:00</th>\n",
       "      <td>65.742942</td>\n",
       "      <td>6.963479</td>\n",
       "      <td>3.595985</td>\n",
       "      <td>30516400.0</td>\n",
       "      <td>86.539640</td>\n",
       "      <td>NaN</td>\n",
       "    </tr>\n",
       "    <tr>\n",
       "      <th>2004-09-30 00:00:00</th>\n",
       "      <td>65.000651</td>\n",
       "      <td>2.558140</td>\n",
       "      <td>-0.230179</td>\n",
       "      <td>13758000.0</td>\n",
       "      <td>86.517070</td>\n",
       "      <td>NaN</td>\n",
       "    </tr>\n",
       "    <tr>\n",
       "      <th>...</th>\n",
       "      <td>...</td>\n",
       "      <td>...</td>\n",
       "      <td>...</td>\n",
       "      <td>...</td>\n",
       "      <td>...</td>\n",
       "      <td>...</td>\n",
       "    </tr>\n",
       "    <tr>\n",
       "      <th>2017-10-31 00:00:00</th>\n",
       "      <td>NaN</td>\n",
       "      <td>NaN</td>\n",
       "      <td>NaN</td>\n",
       "      <td>NaN</td>\n",
       "      <td>NaN</td>\n",
       "      <td>949.609238</td>\n",
       "    </tr>\n",
       "    <tr>\n",
       "      <th>2017-11-01 00:00:00</th>\n",
       "      <td>NaN</td>\n",
       "      <td>NaN</td>\n",
       "      <td>NaN</td>\n",
       "      <td>NaN</td>\n",
       "      <td>NaN</td>\n",
       "      <td>944.158586</td>\n",
       "    </tr>\n",
       "    <tr>\n",
       "      <th>2017-11-02 00:00:00</th>\n",
       "      <td>NaN</td>\n",
       "      <td>NaN</td>\n",
       "      <td>NaN</td>\n",
       "      <td>NaN</td>\n",
       "      <td>NaN</td>\n",
       "      <td>951.257359</td>\n",
       "    </tr>\n",
       "    <tr>\n",
       "      <th>2017-11-03 00:00:00</th>\n",
       "      <td>NaN</td>\n",
       "      <td>NaN</td>\n",
       "      <td>NaN</td>\n",
       "      <td>NaN</td>\n",
       "      <td>NaN</td>\n",
       "      <td>961.478091</td>\n",
       "    </tr>\n",
       "    <tr>\n",
       "      <th>2017-11-04 00:00:00</th>\n",
       "      <td>NaN</td>\n",
       "      <td>NaN</td>\n",
       "      <td>NaN</td>\n",
       "      <td>NaN</td>\n",
       "      <td>NaN</td>\n",
       "      <td>961.794430</td>\n",
       "    </tr>\n",
       "    <tr>\n",
       "      <th>2017-11-05 00:00:00</th>\n",
       "      <td>NaN</td>\n",
       "      <td>NaN</td>\n",
       "      <td>NaN</td>\n",
       "      <td>NaN</td>\n",
       "      <td>NaN</td>\n",
       "      <td>958.004932</td>\n",
       "    </tr>\n",
       "    <tr>\n",
       "      <th>2017-11-05 23:00:00</th>\n",
       "      <td>NaN</td>\n",
       "      <td>NaN</td>\n",
       "      <td>NaN</td>\n",
       "      <td>NaN</td>\n",
       "      <td>NaN</td>\n",
       "      <td>948.146101</td>\n",
       "    </tr>\n",
       "    <tr>\n",
       "      <th>2017-11-06 23:00:00</th>\n",
       "      <td>NaN</td>\n",
       "      <td>NaN</td>\n",
       "      <td>NaN</td>\n",
       "      <td>NaN</td>\n",
       "      <td>NaN</td>\n",
       "      <td>951.956546</td>\n",
       "    </tr>\n",
       "    <tr>\n",
       "      <th>2017-11-07 23:00:00</th>\n",
       "      <td>NaN</td>\n",
       "      <td>NaN</td>\n",
       "      <td>NaN</td>\n",
       "      <td>NaN</td>\n",
       "      <td>NaN</td>\n",
       "      <td>972.483099</td>\n",
       "    </tr>\n",
       "    <tr>\n",
       "      <th>2017-11-08 23:00:00</th>\n",
       "      <td>NaN</td>\n",
       "      <td>NaN</td>\n",
       "      <td>NaN</td>\n",
       "      <td>NaN</td>\n",
       "      <td>NaN</td>\n",
       "      <td>979.228907</td>\n",
       "    </tr>\n",
       "    <tr>\n",
       "      <th>2017-11-09 23:00:00</th>\n",
       "      <td>NaN</td>\n",
       "      <td>NaN</td>\n",
       "      <td>NaN</td>\n",
       "      <td>NaN</td>\n",
       "      <td>NaN</td>\n",
       "      <td>988.038209</td>\n",
       "    </tr>\n",
       "    <tr>\n",
       "      <th>2017-11-10 23:00:00</th>\n",
       "      <td>NaN</td>\n",
       "      <td>NaN</td>\n",
       "      <td>NaN</td>\n",
       "      <td>NaN</td>\n",
       "      <td>NaN</td>\n",
       "      <td>981.595439</td>\n",
       "    </tr>\n",
       "    <tr>\n",
       "      <th>2017-11-11 23:00:00</th>\n",
       "      <td>NaN</td>\n",
       "      <td>NaN</td>\n",
       "      <td>NaN</td>\n",
       "      <td>NaN</td>\n",
       "      <td>NaN</td>\n",
       "      <td>986.776265</td>\n",
       "    </tr>\n",
       "    <tr>\n",
       "      <th>2017-11-12 23:00:00</th>\n",
       "      <td>NaN</td>\n",
       "      <td>NaN</td>\n",
       "      <td>NaN</td>\n",
       "      <td>NaN</td>\n",
       "      <td>NaN</td>\n",
       "      <td>981.777268</td>\n",
       "    </tr>\n",
       "    <tr>\n",
       "      <th>2017-11-13 23:00:00</th>\n",
       "      <td>NaN</td>\n",
       "      <td>NaN</td>\n",
       "      <td>NaN</td>\n",
       "      <td>NaN</td>\n",
       "      <td>NaN</td>\n",
       "      <td>998.947125</td>\n",
       "    </tr>\n",
       "    <tr>\n",
       "      <th>2017-11-14 23:00:00</th>\n",
       "      <td>NaN</td>\n",
       "      <td>NaN</td>\n",
       "      <td>NaN</td>\n",
       "      <td>NaN</td>\n",
       "      <td>NaN</td>\n",
       "      <td>1007.510357</td>\n",
       "    </tr>\n",
       "    <tr>\n",
       "      <th>2017-11-15 23:00:00</th>\n",
       "      <td>NaN</td>\n",
       "      <td>NaN</td>\n",
       "      <td>NaN</td>\n",
       "      <td>NaN</td>\n",
       "      <td>NaN</td>\n",
       "      <td>1007.222907</td>\n",
       "    </tr>\n",
       "    <tr>\n",
       "      <th>2017-11-16 23:00:00</th>\n",
       "      <td>NaN</td>\n",
       "      <td>NaN</td>\n",
       "      <td>NaN</td>\n",
       "      <td>NaN</td>\n",
       "      <td>NaN</td>\n",
       "      <td>1002.047308</td>\n",
       "    </tr>\n",
       "    <tr>\n",
       "      <th>2017-11-17 23:00:00</th>\n",
       "      <td>NaN</td>\n",
       "      <td>NaN</td>\n",
       "      <td>NaN</td>\n",
       "      <td>NaN</td>\n",
       "      <td>NaN</td>\n",
       "      <td>1019.040802</td>\n",
       "    </tr>\n",
       "    <tr>\n",
       "      <th>2017-11-18 23:00:00</th>\n",
       "      <td>NaN</td>\n",
       "      <td>NaN</td>\n",
       "      <td>NaN</td>\n",
       "      <td>NaN</td>\n",
       "      <td>NaN</td>\n",
       "      <td>1020.242312</td>\n",
       "    </tr>\n",
       "    <tr>\n",
       "      <th>2017-11-19 23:00:00</th>\n",
       "      <td>NaN</td>\n",
       "      <td>NaN</td>\n",
       "      <td>NaN</td>\n",
       "      <td>NaN</td>\n",
       "      <td>NaN</td>\n",
       "      <td>1022.858469</td>\n",
       "    </tr>\n",
       "    <tr>\n",
       "      <th>2017-11-20 23:00:00</th>\n",
       "      <td>NaN</td>\n",
       "      <td>NaN</td>\n",
       "      <td>NaN</td>\n",
       "      <td>NaN</td>\n",
       "      <td>NaN</td>\n",
       "      <td>1024.156541</td>\n",
       "    </tr>\n",
       "    <tr>\n",
       "      <th>2017-11-21 23:00:00</th>\n",
       "      <td>NaN</td>\n",
       "      <td>NaN</td>\n",
       "      <td>NaN</td>\n",
       "      <td>NaN</td>\n",
       "      <td>NaN</td>\n",
       "      <td>1025.974529</td>\n",
       "    </tr>\n",
       "    <tr>\n",
       "      <th>2017-11-22 23:00:00</th>\n",
       "      <td>NaN</td>\n",
       "      <td>NaN</td>\n",
       "      <td>NaN</td>\n",
       "      <td>NaN</td>\n",
       "      <td>NaN</td>\n",
       "      <td>1027.399071</td>\n",
       "    </tr>\n",
       "    <tr>\n",
       "      <th>2017-11-23 23:00:00</th>\n",
       "      <td>NaN</td>\n",
       "      <td>NaN</td>\n",
       "      <td>NaN</td>\n",
       "      <td>NaN</td>\n",
       "      <td>NaN</td>\n",
       "      <td>1016.467544</td>\n",
       "    </tr>\n",
       "    <tr>\n",
       "      <th>2017-11-24 23:00:00</th>\n",
       "      <td>NaN</td>\n",
       "      <td>NaN</td>\n",
       "      <td>NaN</td>\n",
       "      <td>NaN</td>\n",
       "      <td>NaN</td>\n",
       "      <td>1020.082196</td>\n",
       "    </tr>\n",
       "    <tr>\n",
       "      <th>2017-11-25 23:00:00</th>\n",
       "      <td>NaN</td>\n",
       "      <td>NaN</td>\n",
       "      <td>NaN</td>\n",
       "      <td>NaN</td>\n",
       "      <td>NaN</td>\n",
       "      <td>999.164456</td>\n",
       "    </tr>\n",
       "    <tr>\n",
       "      <th>2017-11-26 23:00:00</th>\n",
       "      <td>NaN</td>\n",
       "      <td>NaN</td>\n",
       "      <td>NaN</td>\n",
       "      <td>NaN</td>\n",
       "      <td>NaN</td>\n",
       "      <td>1002.897080</td>\n",
       "    </tr>\n",
       "    <tr>\n",
       "      <th>2017-11-27 23:00:00</th>\n",
       "      <td>NaN</td>\n",
       "      <td>NaN</td>\n",
       "      <td>NaN</td>\n",
       "      <td>NaN</td>\n",
       "      <td>NaN</td>\n",
       "      <td>1005.406318</td>\n",
       "    </tr>\n",
       "    <tr>\n",
       "      <th>2017-11-28 23:00:00</th>\n",
       "      <td>NaN</td>\n",
       "      <td>NaN</td>\n",
       "      <td>NaN</td>\n",
       "      <td>NaN</td>\n",
       "      <td>NaN</td>\n",
       "      <td>1005.446234</td>\n",
       "    </tr>\n",
       "  </tbody>\n",
       "</table>\n",
       "<p>3356 rows × 6 columns</p>\n",
       "</div>"
      ],
      "text/plain": [
       "                     Adj. Close    HL_PCT  PCT_change  Adj. Volume      label  \\\n",
       "Date                                                                            \n",
       "2004-08-19 00:00:00   50.322842  8.441017    0.324968   44659000.0  69.639972   \n",
       "2004-08-20 00:00:00   54.322689  8.537313    7.227007   22834300.0  69.078238   \n",
       "2004-08-23 00:00:00   54.869377  4.062357   -1.227880   18256100.0  67.839414   \n",
       "2004-08-24 00:00:00   52.597363  7.753210   -5.726357   15247300.0  68.912727   \n",
       "2004-08-25 00:00:00   53.164113  3.966115    1.183658    9188600.0  70.668146   \n",
       "2004-08-26 00:00:00   54.122070  3.143512    2.820391    7094800.0  71.219849   \n",
       "2004-08-27 00:00:00   53.239345  2.772258   -1.803885    6211700.0  72.278116   \n",
       "2004-08-30 00:00:00   51.162935  3.411430   -3.106003    5196700.0  74.810934   \n",
       "2004-08-31 00:00:00   51.343492  1.517228    0.048866    4917800.0  74.199045   \n",
       "2004-09-01 00:00:00   50.280210  3.310926   -2.385589    9138200.0  70.462511   \n",
       "2004-09-02 00:00:00   50.912161  3.466748    2.442224   15118600.0  74.921275   \n",
       "2004-09-03 00:00:00   50.159839  2.436569   -0.931154    5152400.0  86.481962   \n",
       "2004-09-07 00:00:00   50.947269  2.399357    0.564301    5847500.0  93.990139   \n",
       "2004-09-08 00:00:00   51.308384  2.517413    1.548541    4985600.0  91.181468   \n",
       "2004-09-09 00:00:00   51.313400  1.693069   -0.185366    4061700.0  93.272925   \n",
       "2004-09-10 00:00:00   52.828075  5.192498    3.804080    8698800.0  96.949273   \n",
       "2004-09-13 00:00:00   53.916435  1.831674    0.815905    7844100.0  95.615155   \n",
       "2004-09-14 00:00:00   55.917612  4.878734    3.769546   10828900.0  98.318500   \n",
       "2004-09-15 00:00:00   56.173402  3.656987    1.302460   10713000.0  97.736704   \n",
       "2004-09-16 00:00:00   57.161452  3.716973    1.450952    9266300.0  96.131750   \n",
       "2004-09-17 00:00:00   58.926902  3.469837    2.683097    9472500.0  92.635958   \n",
       "2004-09-20 00:00:00   59.864797  4.136336    2.060710   10628700.0  84.937193   \n",
       "2004-09-21 00:00:00   59.102444  2.476385   -1.963394    7228700.0  86.542147   \n",
       "2004-09-22 00:00:00   59.373280  2.448421    0.791826    7581200.0  84.611187   \n",
       "2004-09-23 00:00:00   60.597057  4.794052    1.666106    8535600.0  84.189886   \n",
       "2004-09-24 00:00:00   60.100525  3.623914   -0.942382    9123400.0  91.793357   \n",
       "2004-09-27 00:00:00   59.313094  2.614601   -1.087320    7066100.0  91.281778   \n",
       "2004-09-28 00:00:00   63.626409  5.981200    4.713165   16929000.0  92.721222   \n",
       "2004-09-29 00:00:00   65.742942  6.963479    3.595985   30516400.0  86.539640   \n",
       "2004-09-30 00:00:00   65.000651  2.558140   -0.230179   13758000.0  86.517070   \n",
       "...                         ...       ...         ...          ...        ...   \n",
       "2017-10-31 00:00:00         NaN       NaN         NaN          NaN        NaN   \n",
       "2017-11-01 00:00:00         NaN       NaN         NaN          NaN        NaN   \n",
       "2017-11-02 00:00:00         NaN       NaN         NaN          NaN        NaN   \n",
       "2017-11-03 00:00:00         NaN       NaN         NaN          NaN        NaN   \n",
       "2017-11-04 00:00:00         NaN       NaN         NaN          NaN        NaN   \n",
       "2017-11-05 00:00:00         NaN       NaN         NaN          NaN        NaN   \n",
       "2017-11-05 23:00:00         NaN       NaN         NaN          NaN        NaN   \n",
       "2017-11-06 23:00:00         NaN       NaN         NaN          NaN        NaN   \n",
       "2017-11-07 23:00:00         NaN       NaN         NaN          NaN        NaN   \n",
       "2017-11-08 23:00:00         NaN       NaN         NaN          NaN        NaN   \n",
       "2017-11-09 23:00:00         NaN       NaN         NaN          NaN        NaN   \n",
       "2017-11-10 23:00:00         NaN       NaN         NaN          NaN        NaN   \n",
       "2017-11-11 23:00:00         NaN       NaN         NaN          NaN        NaN   \n",
       "2017-11-12 23:00:00         NaN       NaN         NaN          NaN        NaN   \n",
       "2017-11-13 23:00:00         NaN       NaN         NaN          NaN        NaN   \n",
       "2017-11-14 23:00:00         NaN       NaN         NaN          NaN        NaN   \n",
       "2017-11-15 23:00:00         NaN       NaN         NaN          NaN        NaN   \n",
       "2017-11-16 23:00:00         NaN       NaN         NaN          NaN        NaN   \n",
       "2017-11-17 23:00:00         NaN       NaN         NaN          NaN        NaN   \n",
       "2017-11-18 23:00:00         NaN       NaN         NaN          NaN        NaN   \n",
       "2017-11-19 23:00:00         NaN       NaN         NaN          NaN        NaN   \n",
       "2017-11-20 23:00:00         NaN       NaN         NaN          NaN        NaN   \n",
       "2017-11-21 23:00:00         NaN       NaN         NaN          NaN        NaN   \n",
       "2017-11-22 23:00:00         NaN       NaN         NaN          NaN        NaN   \n",
       "2017-11-23 23:00:00         NaN       NaN         NaN          NaN        NaN   \n",
       "2017-11-24 23:00:00         NaN       NaN         NaN          NaN        NaN   \n",
       "2017-11-25 23:00:00         NaN       NaN         NaN          NaN        NaN   \n",
       "2017-11-26 23:00:00         NaN       NaN         NaN          NaN        NaN   \n",
       "2017-11-27 23:00:00         NaN       NaN         NaN          NaN        NaN   \n",
       "2017-11-28 23:00:00         NaN       NaN         NaN          NaN        NaN   \n",
       "\n",
       "                        Forecast  \n",
       "Date                              \n",
       "2004-08-19 00:00:00          NaN  \n",
       "2004-08-20 00:00:00          NaN  \n",
       "2004-08-23 00:00:00          NaN  \n",
       "2004-08-24 00:00:00          NaN  \n",
       "2004-08-25 00:00:00          NaN  \n",
       "2004-08-26 00:00:00          NaN  \n",
       "2004-08-27 00:00:00          NaN  \n",
       "2004-08-30 00:00:00          NaN  \n",
       "2004-08-31 00:00:00          NaN  \n",
       "2004-09-01 00:00:00          NaN  \n",
       "2004-09-02 00:00:00          NaN  \n",
       "2004-09-03 00:00:00          NaN  \n",
       "2004-09-07 00:00:00          NaN  \n",
       "2004-09-08 00:00:00          NaN  \n",
       "2004-09-09 00:00:00          NaN  \n",
       "2004-09-10 00:00:00          NaN  \n",
       "2004-09-13 00:00:00          NaN  \n",
       "2004-09-14 00:00:00          NaN  \n",
       "2004-09-15 00:00:00          NaN  \n",
       "2004-09-16 00:00:00          NaN  \n",
       "2004-09-17 00:00:00          NaN  \n",
       "2004-09-20 00:00:00          NaN  \n",
       "2004-09-21 00:00:00          NaN  \n",
       "2004-09-22 00:00:00          NaN  \n",
       "2004-09-23 00:00:00          NaN  \n",
       "2004-09-24 00:00:00          NaN  \n",
       "2004-09-27 00:00:00          NaN  \n",
       "2004-09-28 00:00:00          NaN  \n",
       "2004-09-29 00:00:00          NaN  \n",
       "2004-09-30 00:00:00          NaN  \n",
       "...                          ...  \n",
       "2017-10-31 00:00:00   949.609238  \n",
       "2017-11-01 00:00:00   944.158586  \n",
       "2017-11-02 00:00:00   951.257359  \n",
       "2017-11-03 00:00:00   961.478091  \n",
       "2017-11-04 00:00:00   961.794430  \n",
       "2017-11-05 00:00:00   958.004932  \n",
       "2017-11-05 23:00:00   948.146101  \n",
       "2017-11-06 23:00:00   951.956546  \n",
       "2017-11-07 23:00:00   972.483099  \n",
       "2017-11-08 23:00:00   979.228907  \n",
       "2017-11-09 23:00:00   988.038209  \n",
       "2017-11-10 23:00:00   981.595439  \n",
       "2017-11-11 23:00:00   986.776265  \n",
       "2017-11-12 23:00:00   981.777268  \n",
       "2017-11-13 23:00:00   998.947125  \n",
       "2017-11-14 23:00:00  1007.510357  \n",
       "2017-11-15 23:00:00  1007.222907  \n",
       "2017-11-16 23:00:00  1002.047308  \n",
       "2017-11-17 23:00:00  1019.040802  \n",
       "2017-11-18 23:00:00  1020.242312  \n",
       "2017-11-19 23:00:00  1022.858469  \n",
       "2017-11-20 23:00:00  1024.156541  \n",
       "2017-11-21 23:00:00  1025.974529  \n",
       "2017-11-22 23:00:00  1027.399071  \n",
       "2017-11-23 23:00:00  1016.467544  \n",
       "2017-11-24 23:00:00  1020.082196  \n",
       "2017-11-25 23:00:00   999.164456  \n",
       "2017-11-26 23:00:00  1002.897080  \n",
       "2017-11-27 23:00:00  1005.406318  \n",
       "2017-11-28 23:00:00  1005.446234  \n",
       "\n",
       "[3356 rows x 6 columns]"
      ]
     },
     "execution_count": 18,
     "metadata": {},
     "output_type": "execute_result"
    }
   ],
   "source": [
    "df"
   ]
  },
  {
   "cell_type": "code",
   "execution_count": 19,
   "metadata": {
    "collapsed": false,
    "scrolled": false
   },
   "outputs": [
    {
     "data": {
      "image/png": "[encoded data removed]",
      "text/plain": [
       "<matplotlib.figure.Figure at 0x10898aac8>"
      ]
     },
     "metadata": {},
     "output_type": "display_data"
    }
   ],
   "source": [
    "# Visualize\n",
    "plt.figure(figsize=(22,10))\n",
    "df['Adj. Close'].plot()\n",
    "df['Forecast'].plot()\n",
    "plt.legend(loc=4)\n",
    "plt.xlabel('Date')\n",
    "plt.ylabel('Price')\n",
    "plt.show()\n"
   ]
  },
  {
   "cell_type": "code",
   "execution_count": null,
   "metadata": {
    "collapsed": true,
    "slideshow": {
     "slide_type": "skip"
    }
   },
   "outputs": [],
   "source": []
  }
 ],
 "metadata": {
  "kernelspec": {
   "display_name": "Python [Root]",
   "language": "python",
   "name": "Python [Root]"
  },
  "language_info": {
   "codemirror_mode": {
    "name": "ipython",
    "version": 3
   },
   "file_extension": ".py",
   "mimetype": "text/x-python",
   "name": "python",
   "nbconvert_exporter": "python",
   "pygments_lexer": "ipython3",
   "version": "3.5.4"
  }
 },
 "nbformat": 4,
 "nbformat_minor": 2
}
